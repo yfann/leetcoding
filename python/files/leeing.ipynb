{
 "cells": [
  {
   "cell_type": "code",
   "execution_count": 13,
   "id": "3f3d1cc3-12af-43ce-b67e-ceb8f3e32f16",
   "metadata": {},
   "outputs": [
    {
     "data": {
      "text/plain": [
       "0"
      ]
     },
     "execution_count": 13,
     "metadata": {},
     "output_type": "execute_result"
    }
   ],
   "source": [
    "class Solution(object):\n",
    "    def reverse(self, x):\n",
    "        li=[]\n",
    "        pos=1\n",
    "        if x==0:\n",
    "            return 0\n",
    "        if x<0:\n",
    "            pos=-1\n",
    "            x=-x\n",
    "        while x!=0:\n",
    "          mod=x%10\n",
    "          x=x//10\n",
    "          li.append(mod)\n",
    "        sum=0\n",
    "        l=len(li)\n",
    "        print(li)\n",
    "        for i in li:\n",
    "          l-=1\n",
    "          sum+=i*(10**l)\n",
    "          print(i,l,sum)\n",
    "        return sum*pos\n",
    "a=Solution()\n",
    "a.reverse(-0)"
   ]
  },
  {
   "cell_type": "code",
   "execution_count": 1,
   "id": "70b50bd2-9709-43bc-ac58-0655ffd20340",
   "metadata": {},
   "outputs": [
    {
     "name": "stdout",
     "output_type": "stream",
     "text": [
      "123\n"
     ]
    }
   ],
   "source": [
    "print(123)"
   ]
  },
  {
   "cell_type": "code",
   "execution_count": 3,
   "id": "cf6a8b78-8228-45d9-8c16-8cf78148dcdb",
   "metadata": {},
   "outputs": [
    {
     "name": "stdout",
     "output_type": "stream",
     "text": [
      "6\n"
     ]
    }
   ],
   "source": [
    "print(-1234%10)"
   ]
  },
  {
   "cell_type": "code",
   "execution_count": null,
   "id": "bf5e43e0-2cfc-442c-9ee4-15f0662bdc00",
   "metadata": {},
   "outputs": [],
   "source": []
  },
  {
   "cell_type": "code",
   "execution_count": null,
   "id": "5058f876-7f24-4071-936f-4e5875334c61",
   "metadata": {},
   "outputs": [],
   "source": []
  }
 ],
 "metadata": {
  "kernelspec": {
   "display_name": "Python 3 (ipykernel)",
   "language": "python",
   "name": "python3"
  },
  "language_info": {
   "codemirror_mode": {
    "name": "ipython",
    "version": 3
   },
   "file_extension": ".py",
   "mimetype": "text/x-python",
   "name": "python",
   "nbconvert_exporter": "python",
   "pygments_lexer": "ipython3",
   "version": "3.9.19"
  }
 },
 "nbformat": 4,
 "nbformat_minor": 5
}
