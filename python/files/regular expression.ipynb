{
 "cells": [
  {
   "cell_type": "code",
   "execution_count": 4,
   "id": "f69f72b2-6fb7-4885-9b26-50134d1758b5",
   "metadata": {},
   "outputs": [
    {
     "name": "stdout",
     "output_type": "stream",
     "text": [
      "The result of matching 'aab' with pattern '.*' is True\n"
     ]
    }
   ],
   "source": [
    "def isMatch(s: str, p: str) -> bool:\n",
    "    m, n = len(s), len(p)\n",
    "    dp = [[False] * (n + 1) for _ in range(m + 1)]\n",
    "    dp[0][0] = True  # empty string matches empty pattern\n",
    "\n",
    "    # Initialize the DP table for patterns that can match an empty string, like a*, a*b*, a*b*c*\n",
    "    for j in range(2, n + 1):\n",
    "        if p[j - 1] == '*':\n",
    "            dp[0][j] = dp[0][j - 2]\n",
    "\n",
    "    # Fill the DP table\n",
    "    for i in range(1, m + 1):\n",
    "        for j in range(1, n + 1):\n",
    "            if p[j - 1] == '.' or p[j - 1] == s[i - 1]:\n",
    "                # Match if characters are the same or if pattern has '.'\n",
    "                dp[i][j] = dp[i - 1][j - 1]\n",
    "            elif p[j - 1] == '*':\n",
    "                # Check zero occurrence of the element before '*'\n",
    "                dp[i][j] = dp[i][j - 2]\n",
    "                # Check for one or more occurrences if previous pattern element matches\n",
    "                if p[j - 2] == s[i - 1] or p[j - 2] == '.':\n",
    "                    dp[i][j] = dp[i][j] or dp[i - 1][j]\n",
    "\n",
    "    return dp[m][n]\n",
    "\n",
    "\n",
    "s = \"aab\"\n",
    "p = \".*\"\n",
    "result = isMatch(s, p)\n",
    "print(f\"The result of matching '{s}' with pattern '{p}' is {result}\")\n"
   ]
  },
  {
   "cell_type": "code",
   "execution_count": null,
   "id": "c07a1ef2-0a1d-4e30-8dd6-3714a700d9f5",
   "metadata": {},
   "outputs": [],
   "source": []
  }
 ],
 "metadata": {
  "kernelspec": {
   "display_name": "Python 3 (ipykernel)",
   "language": "python",
   "name": "python3"
  },
  "language_info": {
   "codemirror_mode": {
    "name": "ipython",
    "version": 3
   },
   "file_extension": ".py",
   "mimetype": "text/x-python",
   "name": "python",
   "nbconvert_exporter": "python",
   "pygments_lexer": "ipython3",
   "version": "3.9.19"
  }
 },
 "nbformat": 4,
 "nbformat_minor": 5
}
