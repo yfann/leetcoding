{
 "cells": [
  {
   "cell_type": "code",
   "execution_count": 10,
   "id": "a727280d-8faa-41f0-83d5-8c43cf13c335",
   "metadata": {},
   "outputs": [
    {
     "name": "stdout",
     "output_type": "stream",
     "text": [
      "[False, False, False, False, False, False, False, False, False, False]\n"
     ]
    }
   ],
   "source": [
    "a=[False] * 10\n",
    "print(a)"
   ]
  },
  {
   "cell_type": "code",
   "execution_count": 8,
   "id": "752bc849-9622-4401-b537-71d2bb5254a4",
   "metadata": {},
   "outputs": [
    {
     "name": "stdout",
     "output_type": "stream",
     "text": [
      "dddd\n"
     ]
    }
   ],
   "source": [
    "def longest(s):\n",
    "    n=len(s)\n",
    "    if n==0:\n",
    "        return \"\"\n",
    "    longest=s[0]\n",
    "    for i in range(n):\n",
    "        for j in range(i,n):\n",
    "            sub=s[i:j+1]\n",
    "            if sub==sub[::-1] and len(sub)>len(longest):\n",
    "                longest=sub\n",
    "    return longest\n",
    "\n",
    "\n",
    "print(longest(\"aabbccdddd\"))"
   ]
  },
  {
   "cell_type": "code",
   "execution_count": 4,
   "id": "cb6f0371-168d-4970-a09a-f9e36d549c79",
   "metadata": {},
   "outputs": [
    {
     "name": "stdout",
     "output_type": "stream",
     "text": [
      "1\n",
      "2\n",
      "3\n",
      "4\n"
     ]
    }
   ],
   "source": [
    "for i in range(1,5):\n",
    "    print(i)"
   ]
  },
  {
   "cell_type": "code",
   "execution_count": 1,
   "id": "4ccd221b-258d-496d-8c8d-78092b3b43b0",
   "metadata": {},
   "outputs": [],
   "source": [
    "class Solution:\n",
    "    def longestPalindrome(self, s: str) -> str:\n",
    "        if not s:\n",
    "            return \"\"\n",
    "        start,end=0,0\n",
    "        def expand_around_center(left: int,right: int)->None:\n",
    "            nonlocal start,end\n",
    "            while left>=0 and right < len(s) and s[left]==s[right]:\n",
    "                left-=1\n",
    "                right+=1\n",
    "            if right-left-1>end-start:\n",
    "                start,end=left+1,right-1\n",
    "        for i in range(len(s)):\n",
    "            expand_around_center(i,i)\n",
    "            expand_around_center(i, i + 1)\n",
    "        return s[start:end+1]\n",
    "        "
   ]
  },
  {
   "cell_type": "code",
   "execution_count": 2,
   "id": "fdc029de-aa88-4a9f-828c-b368fbdbb5a3",
   "metadata": {},
   "outputs": [
    {
     "name": "stdout",
     "output_type": "stream",
     "text": [
      "sdfds\n"
     ]
    }
   ],
   "source": [
    "longest=Solution()\n",
    "print(longest.longestPalindrome('absdfdshhhasd'))"
   ]
  },
  {
   "cell_type": "code",
   "execution_count": null,
   "id": "21cdf3f1-756e-4e76-b82e-3f3fb05e4ea5",
   "metadata": {},
   "outputs": [],
   "source": []
  }
 ],
 "metadata": {
  "kernelspec": {
   "display_name": "Python 3 (ipykernel)",
   "language": "python",
   "name": "python3"
  },
  "language_info": {
   "codemirror_mode": {
    "name": "ipython",
    "version": 3
   },
   "file_extension": ".py",
   "mimetype": "text/x-python",
   "name": "python",
   "nbconvert_exporter": "python",
   "pygments_lexer": "ipython3",
   "version": "3.12.3"
  }
 },
 "nbformat": 4,
 "nbformat_minor": 5
}
