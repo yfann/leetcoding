{
 "cells": [
  {
   "cell_type": "code",
   "execution_count": 10,
   "id": "a727280d-8faa-41f0-83d5-8c43cf13c335",
   "metadata": {},
   "outputs": [
    {
     "name": "stdout",
     "output_type": "stream",
     "text": [
      "[False, False, False, False, False, False, False, False, False, False]\n"
     ]
    }
   ],
   "source": [
    "a=[False] * 10\n",
    "print(a)"
   ]
  },
  {
   "cell_type": "code",
   "execution_count": 8,
   "id": "752bc849-9622-4401-b537-71d2bb5254a4",
   "metadata": {},
   "outputs": [
    {
     "name": "stdout",
     "output_type": "stream",
     "text": [
      "dddd\n"
     ]
    }
   ],
   "source": [
    "def longest(s):\n",
    "    n=len(s)\n",
    "    if n==0:\n",
    "        return \"\"\n",
    "    longest=s[0]\n",
    "    for i in range(n):\n",
    "        for j in range(i,n):\n",
    "            sub=s[i:j+1]\n",
    "            if sub==sub[::-1] and len(sub)>len(longest):\n",
    "                longest=sub\n",
    "    return longest\n",
    "\n",
    "\n",
    "print(longest(\"aabbccdddd\"))"
   ]
  },
  {
   "cell_type": "code",
   "execution_count": 4,
   "id": "cb6f0371-168d-4970-a09a-f9e36d549c79",
   "metadata": {},
   "outputs": [
    {
     "name": "stdout",
     "output_type": "stream",
     "text": [
      "1\n",
      "2\n",
      "3\n",
      "4\n"
     ]
    }
   ],
   "source": [
    "for i in range(1,5):\n",
    "    print(i)"
   ]
  }
 ],
 "metadata": {
  "kernelspec": {
   "display_name": "Python 3 (ipykernel)",
   "language": "python",
   "name": "python3"
  },
  "language_info": {
   "codemirror_mode": {
    "name": "ipython",
    "version": 3
   },
   "file_extension": ".py",
   "mimetype": "text/x-python",
   "name": "python",
   "nbconvert_exporter": "python",
   "pygments_lexer": "ipython3",
   "version": "3.12.3"
  }
 },
 "nbformat": 4,
 "nbformat_minor": 5
}
