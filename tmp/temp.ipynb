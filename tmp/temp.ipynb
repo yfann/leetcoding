{
 "cells": [
  {
   "cell_type": "code",
   "execution_count": 15,
   "id": "42abff4f-6dc1-412a-9458-f69460eb77b0",
   "metadata": {},
   "outputs": [
    {
     "name": "stdout",
     "output_type": "stream",
     "text": [
      "[1, 2, 3, 3, 3, 3, 5]\n"
     ]
    },
    {
     "data": {
      "text/plain": [
       "7"
      ]
     },
     "execution_count": 15,
     "metadata": {},
     "output_type": "execute_result"
    }
   ],
   "source": [
    "a=[1,2,3,3,4,3,3,5,4]\n",
    "\n",
    "def removeElement(arr,element):\n",
    "    j=0\n",
    "    for i in range(len(arr)):\n",
    "        if arr[i]==element:\n",
    "            continue\n",
    "        arr[j]=arr[i]\n",
    "        j+=1\n",
    "    del arr[j:]\n",
    "    print(arr)\n",
    "    return j\n",
    "\n",
    "removeElement(a,4)"
   ]
  },
  {
   "cell_type": "code",
   "execution_count": 7,
   "id": "f6359dae-de59-46a2-9ba5-05e52478beb5",
   "metadata": {},
   "outputs": [
    {
     "name": "stdout",
     "output_type": "stream",
     "text": [
      "[1, 2, 3, 4, 3, 3, 5, 4]\n"
     ]
    }
   ],
   "source": [
    "a=[1,2,3,3,4,3,3,5,4]\n",
    "\n",
    "a.remove(3)\n",
    "\n",
    "\n",
    "print(a)\n"
   ]
  },
  {
   "cell_type": "code",
   "execution_count": 8,
   "id": "0e009a61-a065-468e-8bdb-98b859138ad9",
   "metadata": {},
   "outputs": [
    {
     "data": {
      "text/plain": [
       "['__add__',\n",
       " '__class__',\n",
       " '__class_getitem__',\n",
       " '__contains__',\n",
       " '__delattr__',\n",
       " '__delitem__',\n",
       " '__dir__',\n",
       " '__doc__',\n",
       " '__eq__',\n",
       " '__format__',\n",
       " '__ge__',\n",
       " '__getattribute__',\n",
       " '__getitem__',\n",
       " '__gt__',\n",
       " '__hash__',\n",
       " '__iadd__',\n",
       " '__imul__',\n",
       " '__init__',\n",
       " '__init_subclass__',\n",
       " '__iter__',\n",
       " '__le__',\n",
       " '__len__',\n",
       " '__lt__',\n",
       " '__mul__',\n",
       " '__ne__',\n",
       " '__new__',\n",
       " '__reduce__',\n",
       " '__reduce_ex__',\n",
       " '__repr__',\n",
       " '__reversed__',\n",
       " '__rmul__',\n",
       " '__setattr__',\n",
       " '__setitem__',\n",
       " '__sizeof__',\n",
       " '__str__',\n",
       " '__subclasshook__',\n",
       " 'append',\n",
       " 'clear',\n",
       " 'copy',\n",
       " 'count',\n",
       " 'extend',\n",
       " 'index',\n",
       " 'insert',\n",
       " 'pop',\n",
       " 'remove',\n",
       " 'reverse',\n",
       " 'sort']"
      ]
     },
     "execution_count": 8,
     "metadata": {},
     "output_type": "execute_result"
    }
   ],
   "source": [
    "dir([])"
   ]
  },
  {
   "cell_type": "code",
   "execution_count": 13,
   "id": "41406aae-b1a9-4157-944c-d5afb9277b32",
   "metadata": {},
   "outputs": [
    {
     "name": "stdout",
     "output_type": "stream",
     "text": [
      "[1]\n"
     ]
    }
   ],
   "source": [
    "a=[1,2,3,4,5]\n",
    "del a[1:]\n",
    "print(a)"
   ]
  },
  {
   "cell_type": "code",
   "execution_count": 1,
   "id": "3c5f7d31-da59-4146-ac39-0d24dfc6ff14",
   "metadata": {},
   "outputs": [
    {
     "name": "stdout",
     "output_type": "stream",
     "text": [
      "[1, 2, 3, 4, 5]\n"
     ]
    }
   ],
   "source": [
    "def removeDup(arr):\n",
    "    j=0\n",
    "    for i in range(1,len(arr)):\n",
    "        if arr[j]!=arr[i]:\n",
    "            j+=1\n",
    "            arr[j]=arr[i]\n",
    "    if (j+1)<len(arr):\n",
    "        del arr[j+1:]\n",
    "    print(arr)\n",
    "    \n",
    "a=[1,2,3,3,3,4,4,5]\n",
    "removeDup(a)"
   ]
  },
  {
   "cell_type": "code",
   "execution_count": 3,
   "id": "5d8047af-7b79-45b1-96e4-c56b0a448e75",
   "metadata": {},
   "outputs": [
    {
     "name": "stdout",
     "output_type": "stream",
     "text": [
      "10\n",
      "9\n",
      "8\n",
      "7\n",
      "6\n",
      "5\n",
      "4\n",
      "3\n",
      "2\n",
      "1\n",
      "0\n"
     ]
    }
   ],
   "source": [
    "for i in range(10,-1,-1):\n",
    "    print(i)"
   ]
  },
  {
   "cell_type": "code",
   "execution_count": 4,
   "id": "b448b0d9-3bf3-4a99-b119-33055719d2bd",
   "metadata": {},
   "outputs": [
    {
     "data": {
      "text/plain": [
       "['__add__',\n",
       " '__class__',\n",
       " '__class_getitem__',\n",
       " '__contains__',\n",
       " '__delattr__',\n",
       " '__delitem__',\n",
       " '__dir__',\n",
       " '__doc__',\n",
       " '__eq__',\n",
       " '__format__',\n",
       " '__ge__',\n",
       " '__getattribute__',\n",
       " '__getitem__',\n",
       " '__gt__',\n",
       " '__hash__',\n",
       " '__iadd__',\n",
       " '__imul__',\n",
       " '__init__',\n",
       " '__init_subclass__',\n",
       " '__iter__',\n",
       " '__le__',\n",
       " '__len__',\n",
       " '__lt__',\n",
       " '__mul__',\n",
       " '__ne__',\n",
       " '__new__',\n",
       " '__reduce__',\n",
       " '__reduce_ex__',\n",
       " '__repr__',\n",
       " '__reversed__',\n",
       " '__rmul__',\n",
       " '__setattr__',\n",
       " '__setitem__',\n",
       " '__sizeof__',\n",
       " '__str__',\n",
       " '__subclasshook__',\n",
       " 'append',\n",
       " 'clear',\n",
       " 'copy',\n",
       " 'count',\n",
       " 'extend',\n",
       " 'index',\n",
       " 'insert',\n",
       " 'pop',\n",
       " 'remove',\n",
       " 'reverse',\n",
       " 'sort']"
      ]
     },
     "execution_count": 4,
     "metadata": {},
     "output_type": "execute_result"
    }
   ],
   "source": [
    "dir([])"
   ]
  },
  {
   "cell_type": "code",
   "execution_count": 5,
   "id": "6cd0a1f6-e591-4f2d-810c-e91e45afeeee",
   "metadata": {},
   "outputs": [
    {
     "name": "stdout",
     "output_type": "stream",
     "text": [
      "None\n"
     ]
    }
   ],
   "source": [
    "print([1,2].insert(12,0))"
   ]
  },
  {
   "cell_type": "code",
   "execution_count": 8,
   "id": "40dd7cd1-b72c-474b-8b45-255e8046c2bb",
   "metadata": {},
   "outputs": [
    {
     "name": "stdout",
     "output_type": "stream",
     "text": [
      "[12, 1, 2, 3]\n"
     ]
    }
   ],
   "source": [
    "a=[1,2,3]\n",
    "a.insert(0,12)\n",
    "print(a)"
   ]
  },
  {
   "cell_type": "code",
   "execution_count": 12,
   "id": "d22c0c42-c3c8-4f87-bd44-e7f2b25abc7f",
   "metadata": {},
   "outputs": [
    {
     "name": "stdout",
     "output_type": "stream",
     "text": [
      "5\n",
      "1\n",
      "0.6\n",
      "4\n",
      "6\n",
      "1.0\n",
      "3\n",
      "0\n",
      "0.3\n",
      "2\n",
      "3\n",
      "0.5\n",
      "1\n",
      "5\n",
      "0.6\n",
      "[6, 0.6, 0.5, 0.3, 1.0, 0.6]\n"
     ]
    }
   ],
   "source": [
    "def plusone(arr):\n",
    "    one = 1\n",
    "    for i in range(len(arr)-1,-1,-1):\n",
    "        sum = arr[i]+one\n",
    "        one = sum % 10\n",
    "        arr[i] = sum / 10\n",
    "        print(arr[i])\n",
    "    \n",
    "    if one > 0:\n",
    "        arr.insert(0,one)\n",
    "    print(arr)\n",
    "    \n",
    "a=[1,2,3,4,5]\n",
    "plusone(a)"
   ]
  },
  {
   "cell_type": "code",
   "execution_count": 15,
   "id": "ed5e1b19-fa4f-4d19-b62c-6cf6a3dcd5a5",
   "metadata": {},
   "outputs": [
    {
     "name": "stdout",
     "output_type": "stream",
     "text": [
      "0.6\n"
     ]
    }
   ],
   "source": [
    "print(6 / 10)"
   ]
  },
  {
   "cell_type": "code",
   "execution_count": null,
   "id": "938545b2-dde2-4a09-b68f-a2115c4cfc9d",
   "metadata": {},
   "outputs": [],
   "source": []
  }
 ],
 "metadata": {
  "kernelspec": {
   "display_name": "Python 3 (ipykernel)",
   "language": "python",
   "name": "python3"
  },
  "language_info": {
   "codemirror_mode": {
    "name": "ipython",
    "version": 3
   },
   "file_extension": ".py",
   "mimetype": "text/x-python",
   "name": "python",
   "nbconvert_exporter": "python",
   "pygments_lexer": "ipython3",
   "version": "3.9.9"
  }
 },
 "nbformat": 4,
 "nbformat_minor": 5
}
